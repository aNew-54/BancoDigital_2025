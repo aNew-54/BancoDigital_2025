{
 "cells": [
  {
   "cell_type": "markdown",
   "id": "e6941308",
   "metadata": {},
   "source": [
    "Leer el archive banco.csv, realizar las transformaciones quitar duplicados y eliminar nulos \n",
    "(Reemplazar NA por CTA AHORROS SOLES) "
   ]
  },
  {
   "cell_type": "code",
   "execution_count": 1,
   "id": "a7a13f4d",
   "metadata": {},
   "outputs": [
    {
     "name": "stdout",
     "output_type": "stream",
     "text": [
      "📊 Valores nulos antes de la limpieza:\n",
      "Num_Cta            0\n",
      "Cli_codigo         0\n",
      "TipoCuenta       273\n",
      "Sucursal           0\n",
      "FechaApertura      0\n",
      "Saldo              0\n",
      "dtype: int64\n",
      "\n",
      "✅ Después de la limpieza:\n",
      "Num_Cta          0\n",
      "Cli_codigo       0\n",
      "TipoCuenta       0\n",
      "Sucursal         0\n",
      "FechaApertura    0\n",
      "Saldo            0\n",
      "dtype: int64\n",
      "\n",
      "📁 Archivo limpio guardado en: D:\\UNC\\Ciclo 2025-II (VI)\\Tópicos especiales en Inteligencia de Negocios\\Unidad I\\Semana 5\\BancoDigital_2025\\database\\bancos_clean.csv\n"
     ]
    }
   ],
   "source": [
    "import pandas as pd\n",
    "from pathlib import Path\n",
    "\n",
    "# 1⃣ Definir rutas\n",
    "data_path = Path.cwd() / \"../data\"\n",
    "database_path = Path.cwd() / \"../database\"\n",
    "database_path.mkdir(parents=True, exist_ok=True)\n",
    "\n",
    "input_file = data_path / \"bancos.csv\"\n",
    "output_file = database_path / \"bancos_clean.csv\"\n",
    "\n",
    "# 2⃣ Leer el archivo CSV original\n",
    "df = pd.read_csv(input_file)\n",
    "\n",
    "# 3⃣ Mostrar cantidad de valores nulos antes\n",
    "print(\"📊 Valores nulos antes de la limpieza:\")\n",
    "print(df.isnull().sum())\n",
    "\n",
    "# 4⃣ Reemplazar valores nulos en la columna TipoCuenta\n",
    "df[\"TipoCuenta\"] = df[\"TipoCuenta\"].fillna(\"CTA AHORROS SOLES\")\n",
    "\n",
    "# 5⃣ Eliminar filas completamente vacías o duplicadas (opcional)\n",
    "df.dropna(how=\"all\", inplace=True)\n",
    "df.drop_duplicates(inplace=True)\n",
    "\n",
    "# 6⃣ Mostrar resumen después de la limpieza\n",
    "print(\"\\n✅ Después de la limpieza:\")\n",
    "print(df.isnull().sum())\n",
    "\n",
    "# 7⃣ Guardar el nuevo archivo limpio\n",
    "df.to_csv(output_file, index=False, encoding=\"utf-8\")\n",
    "print(f\"\\n📁 Archivo limpio guardado en: {output_file.resolve()}\")"
   ]
  }
 ],
 "metadata": {
  "kernelspec": {
   "display_name": "myenv",
   "language": "python",
   "name": "python3"
  },
  "language_info": {
   "codemirror_mode": {
    "name": "ipython",
    "version": 3
   },
   "file_extension": ".py",
   "mimetype": "text/x-python",
   "name": "python",
   "nbconvert_exporter": "python",
   "pygments_lexer": "ipython3",
   "version": "3.13.7"
  }
 },
 "nbformat": 4,
 "nbformat_minor": 5
}

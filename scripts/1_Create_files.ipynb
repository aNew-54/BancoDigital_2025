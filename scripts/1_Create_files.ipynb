{
 "cells": [
  {
   "cell_type": "markdown",
   "id": "a14e2f36",
   "metadata": {},
   "source": [
    "## 1. Librerías Necesarias\n",
    "Para crear carpetas o directorios directamente desde Python, no necesitas instalar nada adicional. \n",
    "Usarás librerías nativas del sistema operativo: \n",
    "• os → para manejar rutas, crear carpetas, listar archivos, etc. \n",
    "• pathlib → más moderna, limpia y recomendada para proyectos nuevos (parte de la librería \n",
    "estándar también)."
   ]
  },
  {
   "cell_type": "markdown",
   "id": "60b80041",
   "metadata": {},
   "source": [
    "## Crear carpeta \"data\" automáticamente\n",
    "\n",
    "#### Opción 1: Usando os"
   ]
  },
  {
   "cell_type": "code",
   "execution_count": null,
   "id": "9525ec99",
   "metadata": {},
   "outputs": [
    {
     "name": "stdout",
     "output_type": "stream",
     "text": [
      "La carpeta 'data' ya existe.\n"
     ]
    }
   ],
   "source": [
    "import os \n",
    "# Ruta de la carpeta \"data\" dentro del proyecto actual \n",
    "ruta_carpeta = os.path.join(os.getcwd(), \"../data\") \n",
    "# Crear carpeta si no existe \n",
    "if not os.path.exists(ruta_carpeta): \n",
    "    os.makedirs(ruta_carpeta) \n",
    "    print(f\"Carpeta creada en: {ruta_carpeta}\") \n",
    "else: \n",
    "    print(\"La carpeta 'data' ya existe.\")"
   ]
  },
  {
   "cell_type": "markdown",
   "id": "58f4ea57",
   "metadata": {},
   "source": [
    "#### Opción 2: usando pathlib (más moderno y elegante)"
   ]
  },
  {
   "cell_type": "code",
   "execution_count": 11,
   "id": "1c297677",
   "metadata": {},
   "outputs": [
    {
     "name": "stdout",
     "output_type": "stream",
     "text": [
      "Carpeta creada en: d:\\UNC\\Ciclo 2025-II (VI)\\Tópicos especiales en Inteligencia de Negocios\\Unidad I\\Semana 5\\BancoDigital_2025\\database\n"
     ]
    }
   ],
   "source": [
    "from pathlib import Path \n",
    "# Definir la ruta de la carpeta \"data\" \n",
    "ruta_carpeta = Path.cwd() / \"database\" \n",
    "# Crear la carpeta si no existe \n",
    "ruta_carpeta.mkdir(parents=True, exist_ok=True) \n",
    "print(f\"Carpeta creada en: {ruta_carpeta}\") "
   ]
  },
  {
   "cell_type": "markdown",
   "id": "53ac0f46",
   "metadata": {},
   "source": [
    "#### Crear otras carpetas en la misma ejecución"
   ]
  },
  {
   "cell_type": "code",
   "execution_count": 12,
   "id": "0b924445",
   "metadata": {},
   "outputs": [
    {
     "name": "stdout",
     "output_type": "stream",
     "text": [
      "✅ Carpeta 'data' lista en d:\\UNC\\Ciclo 2025-II (VI)\\Tópicos especiales en Inteligencia de Negocios\\Unidad I\\Semana 5\\BancoDigital_2025\\data\n",
      "✅ Carpeta 'database' lista en d:\\UNC\\Ciclo 2025-II (VI)\\Tópicos especiales en Inteligencia de Negocios\\Unidad I\\Semana 5\\BancoDigital_2025\\database\n",
      "✅ Carpeta 'scripts' lista en d:\\UNC\\Ciclo 2025-II (VI)\\Tópicos especiales en Inteligencia de Negocios\\Unidad I\\Semana 5\\BancoDigital_2025\\scripts\n",
      "✅ Carpeta 'docs' lista en d:\\UNC\\Ciclo 2025-II (VI)\\Tópicos especiales en Inteligencia de Negocios\\Unidad I\\Semana 5\\BancoDigital_2025\\docs\n"
     ]
    }
   ],
   "source": [
    "from pathlib import Path \n",
    "# Rutas de carpetas del proyecto \n",
    "carpetas = [\"data\", \"database\", \"scripts\", \"docs\"] \n",
    "for carpeta in carpetas: \n",
    "    ruta = Path.cwd() / f\"{carpeta}\" \n",
    "    ruta.mkdir(parents=True, exist_ok=True) \n",
    "    print(f\"✅ Carpeta '{carpeta}' lista en {ruta}\")"
   ]
  }
 ],
 "metadata": {
  "kernelspec": {
   "display_name": "myenv",
   "language": "python",
   "name": "python3"
  },
  "language_info": {
   "codemirror_mode": {
    "name": "ipython",
    "version": 3
   },
   "file_extension": ".py",
   "mimetype": "text/x-python",
   "name": "python",
   "nbconvert_exporter": "python",
   "pygments_lexer": "ipython3",
   "version": "3.13.7"
  }
 },
 "nbformat": 4,
 "nbformat_minor": 5
}

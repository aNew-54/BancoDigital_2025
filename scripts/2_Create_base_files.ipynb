{
 "cells": [
  {
   "cell_type": "markdown",
   "id": "18e49719",
   "metadata": {},
   "source": [
    "## 2. Crear el archivo base Base.csv automáticamente\n",
    "\n",
    "Dentro del proyecto, crear una carpeta llamada data y un archivo bancos.csv con las \n",
    "columnas: Num_Cta, Cli_codigo, TipoCuenta, Sucursal, FechaApertura, \n",
    "Saldo "
   ]
  },
  {
   "cell_type": "code",
   "execution_count": 2,
   "id": "1e857e35",
   "metadata": {},
   "outputs": [
    {
     "name": "stdout",
     "output_type": "stream",
     "text": [
      "Archivo 'base.csv' creado correctamente.\n"
     ]
    }
   ],
   "source": [
    "from pathlib import Path \n",
    "# Crear carpeta data \n",
    "data_path = Path.cwd() / \"../data\" \n",
    "data_path.mkdir(parents=True, exist_ok=True) \n",
    "# Crear archivo CSV base \n",
    "archivo_csv = data_path / \"base.csv\" \n",
    "if not archivo_csv.exists(): \n",
    "    with open(archivo_csv, \"w\", encoding=\"utf-8\") as f: \n",
    "        f.write(\"Num_Cta,Cli_Codigo,TipoCuenta,Sucursal,FechaApertura,Saldo\\n\") \n",
    "    print(\"Archivo 'base.csv' creado correctamente.\") \n",
    "else: \n",
    "    print(\"El archivo 'base.csv' ya existe.\") "
   ]
  }
 ],
 "metadata": {
  "kernelspec": {
   "display_name": "myenv",
   "language": "python",
   "name": "python3"
  },
  "language_info": {
   "codemirror_mode": {
    "name": "ipython",
    "version": 3
   },
   "file_extension": ".py",
   "mimetype": "text/x-python",
   "name": "python",
   "nbconvert_exporter": "python",
   "pygments_lexer": "ipython3",
   "version": "3.13.7"
  }
 },
 "nbformat": 4,
 "nbformat_minor": 5
}
